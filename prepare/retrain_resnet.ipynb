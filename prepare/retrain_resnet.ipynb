{
 "cells": [
  {
   "cell_type": "code",
   "execution_count": 12,
   "id": "d7226dfb",
   "metadata": {},
   "outputs": [
    {
     "name": "stdout",
     "output_type": "stream",
     "text": [
      "The autoreload extension is already loaded. To reload it, use:\n",
      "  %reload_ext autoreload\n"
     ]
    }
   ],
   "source": [
    "%load_ext autoreload\n",
    "%autoreload 2\n",
    "\n",
    "import os, sys\n",
    "import torch\n",
    "import torch.nn as nn\n",
    "import torch.nn.functional as F\n",
    "sys.path.append('..')\n",
    "\n",
    "from tqdm import tqdm\n",
    "from network import ResNet\n",
    "from dataset import InputPipeLineBuilder"
   ]
  },
  {
   "cell_type": "code",
   "execution_count": 13,
   "id": "b03b8c45",
   "metadata": {},
   "outputs": [],
   "source": [
    "num_epochs = 100\n",
    "batch_size = 256\n",
    "\n",
    "device = 'cuda' if torch.cuda.is_available() else 'cpu'\n",
    "lr = 1e-3\n",
    "weight_decay = 0.05\n",
    "\n",
    "model = ResNet(head_input_dim=512).to(device)\n",
    "\n",
    "for layer in model.modules():\n",
    "  layer.requires_grad_ = True\n",
    "\n",
    "loss_fn = nn.CrossEntropyLoss()\n",
    "optimizer = torch.optim.AdamW(model.parameters(), lr=lr, weight_decay=weight_decay)\n",
    "\n",
    "sch1 = torch.optim.lr_scheduler.ConstantLR(optimizer, factor=1.0, total_iters=10)\n",
    "sch2 = torch.optim.lr_scheduler.StepLR(optimizer, step_size=30, gamma=0.1)\n",
    "\n",
    "scheduler = torch.optim.lr_scheduler.SequentialLR(\n",
    "    optimizer,\n",
    "    schedulers=[sch1, sch2],\n",
    "    milestones=[10]\n",
    ")"
   ]
  },
  {
   "cell_type": "code",
   "execution_count": 14,
   "id": "770bf087",
   "metadata": {},
   "outputs": [],
   "source": [
    "input_pipeline_builder = InputPipeLineBuilder(batch_size=batch_size, select_forget_concept=True, dataset='cifar100')\n",
    "\n",
    "train_dataloader = input_pipeline_builder.get_dataloader_for_unlearn(is_retain=True, subset='train')\n",
    "valid_dataloader = input_pipeline_builder.get_dataloader_for_unlearn(is_retain=True, subset='valid')\n",
    "test_dataloader = input_pipeline_builder.get_dataloader_for_unlearn(is_retain=True, subset='test')"
   ]
  },
  {
   "cell_type": "code",
   "execution_count": null,
   "id": "fcaadf0e",
   "metadata": {},
   "outputs": [],
   "source": [
    "for epoch in range(num_epochs):\n",
    "    losses = []\n",
    "    model.train()\n",
    "    for batch in tqdm(train_dataloader):\n",
    "        train_x, train_y = batch\n",
    "        logits = model(train_x.to(device))\n",
    "        \n",
    "        loss = loss_fn(logits, train_y.to(device))\n",
    "        loss.backward()\n",
    "        \n",
    "        optimizer.step()\n",
    "        optimizer.zero_grad()\n",
    "        \n",
    "        losses.append(loss.cpu().item())\n",
    "\n",
    "    print(f\"\\tavg loss at epoch: {epoch+1}/{num_epochs}: {sum(losses) / len(losses):.4f}\")\n",
    "      \n",
    "    model.eval()\n",
    "    losses = []\n",
    "    rcorrect, total = 0, 0\n",
    "    for batch in valid_dataloader:\n",
    "      valid_x, valid_y = batch\n",
    "      logits = model(valid_x.to(device))\n",
    "      \n",
    "      loss = loss_fn(logits, valid_y.to(device))\n",
    "      losses.append(loss.cpu().item())\n",
    "      pred_labels = torch.argmax(logits, dim=1)\n",
    "      num_preds = torch.sum((pred_labels == valid_y.to(device))).item()\n",
    "      \n",
    "      rcorrect += num_preds\n",
    "      total += valid_x.shape[0]\n",
    "    print(f\"\\tvalid acc at epoch: {epoch+1}/{num_epochs} : {rcorrect / total:.4f}\")\n",
    "    print(f\"\\tavg loss at epoch: {epoch+1}/{num_epochs}: {sum(losses) / len(losses):.4f}\")\n",
    "\n",
    "    scheduler.step()"
   ]
  },
  {
   "cell_type": "code",
   "execution_count": null,
   "id": "294007d6",
   "metadata": {},
   "outputs": [],
   "source": [
    "torch.save(model.head.state_dict(), './resnet_18_retrained.pth')"
   ]
  }
 ],
 "metadata": {
  "kernelspec": {
   "display_name": "vsenv",
   "language": "python",
   "name": "python3"
  },
  "language_info": {
   "codemirror_mode": {
    "name": "ipython",
    "version": 3
   },
   "file_extension": ".py",
   "mimetype": "text/x-python",
   "name": "python",
   "nbconvert_exporter": "python",
   "pygments_lexer": "ipython3",
   "version": "3.11.7"
  }
 },
 "nbformat": 4,
 "nbformat_minor": 5
}
