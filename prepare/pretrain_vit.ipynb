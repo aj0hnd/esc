{
 "cells": [
  {
   "cell_type": "code",
   "execution_count": 33,
   "id": "739751ae",
   "metadata": {},
   "outputs": [
    {
     "name": "stdout",
     "output_type": "stream",
     "text": [
      "The autoreload extension is already loaded. To reload it, use:\n",
      "  %reload_ext autoreload\n"
     ]
    }
   ],
   "source": [
    "%load_ext autoreload\n",
    "%autoreload 2\n",
    "\n",
    "import os, sys\n",
    "import torch\n",
    "import torch.nn as nn\n",
    "import torch.nn.functional as F\n",
    "sys.path.append('..')\n",
    "\n",
    "from tqdm import tqdm\n",
    "from network import ViT\n",
    "from dataset import InputPipeLineBuilder"
   ]
  },
  {
   "cell_type": "code",
   "execution_count": 34,
   "id": "2387a8a9",
   "metadata": {},
   "outputs": [],
   "source": [
    "num_epochs = 50\n",
    "batch_size = 64\n",
    "\n",
    "device = 'cuda' if torch.cuda.is_available() else 'cpu'\n",
    "lr = 0.05\n",
    "weight_decay = 0.001\n",
    "\n",
    "model = ViT(head_input_dim=768).to(device)\n",
    "loss_fn = nn.CrossEntropyLoss()\n",
    "optimizer = torch.optim.AdamW(model.head.parameters(), lr=lr, weight_decay=weight_decay)\n",
    "\n",
    "def lr_lambda(epoch):\n",
    "    if epoch < 20:\n",
    "        return 1.0\n",
    "    elif epoch < 30:\n",
    "        return 0.1\n",
    "    elif epoch < 40:\n",
    "        return 0.01\n",
    "    else:\n",
    "        return 0.001\n",
    "    \n",
    "scheduler = torch.optim.lr_scheduler.LambdaLR(optimizer=optimizer, lr_lambda=lr_lambda)"
   ]
  },
  {
   "cell_type": "code",
   "execution_count": 35,
   "id": "cdd16948",
   "metadata": {},
   "outputs": [],
   "source": [
    "for layer in model.feature_extractor.modules():\n",
    "    layer.requires_grad_ = False\n",
    "    \n",
    "input_pipeline_builder = InputPipeLineBuilder(batch_size=batch_size, dataset='tiny_imagenet')\n",
    "\n",
    "train_dataloader = input_pipeline_builder.get_dataloader(subset='train')\n",
    "test_dataloader = input_pipeline_builder.get_dataloader(subset='test')"
   ]
  },
  {
   "cell_type": "code",
   "execution_count": null,
   "id": "8c3ceb4b",
   "metadata": {},
   "outputs": [],
   "source": [
    "for epoch in range(num_epochs):\n",
    "    losses = []\n",
    "    model.train()\n",
    "    for batch in tqdm(train_dataloader):\n",
    "        train_x, train_y = batch\n",
    "        logits = model(train_x.to(device))\n",
    "        \n",
    "        loss = loss_fn(logits, train_y.to(device))\n",
    "        loss.backward()\n",
    "        \n",
    "        optimizer.step()\n",
    "        optimizer.zero_grad()\n",
    "        \n",
    "        losses.append(loss.cpu().item())\n",
    "        \n",
    "    scheduler.step()\n",
    "    print(f\"avg loss at epoch: {epoch+1}/{num_epochs}: {sum(losses) / len(losses):.4f}\")"
   ]
  },
  {
   "cell_type": "code",
   "execution_count": null,
   "id": "3ce05e12",
   "metadata": {},
   "outputs": [],
   "source": [
    "torch.save(model.head.state_dict(), 'vit_head.pth')"
   ]
  }
 ],
 "metadata": {
  "kernelspec": {
   "display_name": "vsenv",
   "language": "python",
   "name": "python3"
  },
  "language_info": {
   "codemirror_mode": {
    "name": "ipython",
    "version": 3
   },
   "file_extension": ".py",
   "mimetype": "text/x-python",
   "name": "python",
   "nbconvert_exporter": "python",
   "pygments_lexer": "ipython3",
   "version": "3.11.7"
  }
 },
 "nbformat": 4,
 "nbformat_minor": 5
}
