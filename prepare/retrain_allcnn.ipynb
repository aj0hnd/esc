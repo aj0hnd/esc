{
 "cells": [
  {
   "cell_type": "code",
   "execution_count": 11,
   "id": "22a40722",
   "metadata": {},
   "outputs": [
    {
     "name": "stdout",
     "output_type": "stream",
     "text": [
      "The autoreload extension is already loaded. To reload it, use:\n",
      "  %reload_ext autoreload\n"
     ]
    }
   ],
   "source": [
    "%load_ext autoreload\n",
    "%autoreload 2\n",
    "\n",
    "import os, sys\n",
    "import torch\n",
    "import torch.nn as nn\n",
    "import torch.nn.functional as F\n",
    "sys.path.append('..')\n",
    "\n",
    "from tqdm import tqdm\n",
    "from network import AllCNN\n",
    "from dataset import InputPipeLineBuilder"
   ]
  },
  {
   "cell_type": "code",
   "execution_count": 12,
   "id": "db3c9ae3",
   "metadata": {},
   "outputs": [],
   "source": [
    "num_epochs = 350\n",
    "batch_size = 256\n",
    "\n",
    "device = 'cuda' if torch.cuda.is_available() else 'cpu'\n",
    "lr = 0.05\n",
    "weight_decay = 0.001\n",
    "\n",
    "model = AllCNN(head_input_dim=10).to(device)\n",
    "loss_fn = nn.CrossEntropyLoss()\n",
    "optimizer = torch.optim.SGD(model.parameters(), lr=lr, momentum=0.9, weight_decay=weight_decay)\n",
    "\n",
    "def lr_lambda(epoch):\n",
    "    if epoch < 200:\n",
    "        return 1.0\n",
    "    elif epoch < 250:\n",
    "        return 0.1\n",
    "    elif epoch < 300:\n",
    "        return 0.01\n",
    "    else:\n",
    "        return 0.001\n",
    "    \n",
    "scheduler = torch.optim.lr_scheduler.LambdaLR(optimizer=optimizer, lr_lambda=lr_lambda)"
   ]
  },
  {
   "cell_type": "code",
   "execution_count": 13,
   "id": "af82f605",
   "metadata": {},
   "outputs": [],
   "source": [
    "input_pipeline_builder = InputPipeLineBuilder(batch_size=batch_size, select_forget_concept=True, dataset='cifar10')\n",
    "\n",
    "train_dataloader = input_pipeline_builder.get_dataloader_for_unlearn(subset='train', is_retain=True)\n",
    "test_dataloader = input_pipeline_builder.get_dataloader_for_unlearn(subset='test', is_retain=True)"
   ]
  },
  {
   "cell_type": "code",
   "execution_count": null,
   "id": "e7b81e04",
   "metadata": {},
   "outputs": [],
   "source": [
    "for epoch in range(num_epochs):\n",
    "    losses = []\n",
    "    \n",
    "    model.train()\n",
    "    for batch in tqdm(train_dataloader):\n",
    "        batch_x, batch_y = batch\n",
    "        logits = model(batch_x.to(device))\n",
    "        \n",
    "        loss = loss_fn(logits, batch_y.to(device))\n",
    "        loss.backward()\n",
    "        \n",
    "        optimizer.step()\n",
    "        optimizer.zero_grad()\n",
    "        \n",
    "        losses.append(loss.cpu().item())\n",
    "    \n",
    "    scheduler.step()    \n",
    "    print(f\"avg loss at epoch: {epoch+1}/{num_epochs}: {sum(losses) / len(losses):.4f}\")\n",
    "    "
   ]
  },
  {
   "cell_type": "code",
   "execution_count": null,
   "id": "6871c6e0",
   "metadata": {},
   "outputs": [],
   "source": [
    "torch.save(model.state_dict(), './all_cnn_retrained.pth')"
   ]
  },
  {
   "cell_type": "code",
   "execution_count": null,
   "id": "536be613",
   "metadata": {},
   "outputs": [],
   "source": [
    "rcorrect, total = 0, 0\n",
    "\n",
    "model.eval()\n",
    "for batch in tqdm(test_dataloader):\n",
    "    batch_x, batch_y = batch\n",
    "    logits = model(batch_x.to(device))\n",
    "    preds = torch.sum((preds == batch_y)).item()\n",
    "    \n",
    "    rcorrect += preds\n",
    "    total += batch_x.shape[0]\n",
    "\n",
    "print(f\"avg accuracy at epoch: {epoch+1}/{num_epochs}: {rcorrect/total:.4f}\")"
   ]
  },
  {
   "cell_type": "code",
   "execution_count": null,
   "id": "f17600f3",
   "metadata": {},
   "outputs": [],
   "source": [
    "test_dataloader = input_pipeline_builder.get_dataloader_for_unlearn(is_retain=False, subset='train')"
   ]
  },
  {
   "cell_type": "code",
   "execution_count": null,
   "id": "db37c645",
   "metadata": {},
   "outputs": [],
   "source": [
    "rcorrect, total = 0, 0\n",
    "\n",
    "model.eval()\n",
    "for batch in tqdm(test_dataloader):\n",
    "    batch_x, batch_y = batch\n",
    "    logits = model(batch_x.to(device))\n",
    "    preds = torch.sum((preds == batch_y)).item()\n",
    "    \n",
    "    rcorrect += preds\n",
    "    total += batch_x.shape[0]\n",
    "\n",
    "print(f\"avg accuracy at epoch: {epoch+1}/{num_epochs}: {rcorrect/total:.4f}\")"
   ]
  }
 ],
 "metadata": {
  "kernelspec": {
   "display_name": "vsenv",
   "language": "python",
   "name": "python3"
  },
  "language_info": {
   "codemirror_mode": {
    "name": "ipython",
    "version": 3
   },
   "file_extension": ".py",
   "mimetype": "text/x-python",
   "name": "python",
   "nbconvert_exporter": "python",
   "pygments_lexer": "ipython3",
   "version": "3.11.7"
  }
 },
 "nbformat": 4,
 "nbformat_minor": 5
}
